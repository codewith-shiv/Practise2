{
 "cells": [
  {
   "cell_type": "code",
   "execution_count": null,
   "metadata": {},
   "outputs": [],
   "source": [
    "#chocolateMonger\n",
    "t=int(input())\n",
    "while(t>0):\n",
    "    t-=1"
   ]
  },
  {
   "cell_type": "code",
   "execution_count": 5,
   "metadata": {},
   "outputs": [],
   "source": [
    "def main():\n",
    "    n,x=list(map(int,input().split()))\n",
    "    l=list(map(int,input().split()))\n",
    "    l.sort()\n",
    "    i=0\n",
    "    r=[]\n",
    "    r.append(l.count(l[0]))\n",
    "    i=0\n",
    "    while(i<len(l)-1):\n",
    "        if l[i+1]!=l[i]:\n",
    "            r.append(l.count(l[i+1]))\n",
    "        i+=1\n",
    "    count=0\n",
    "    while(count<(n-x)):\n",
    "        for x in r:\n",
    "            if x>0:\n",
    "                x-=1\n",
    "                count+=1\n",
    "            if count>(n-x):\n",
    "                break\n",
    "    return count\n",
    "    \n",
    "\n",
    "        \n"
   ]
  },
  {
   "cell_type": "code",
   "execution_count": null,
   "metadata": {},
   "outputs": [],
   "source": [
    "l=[1,2,5,4,5,4,3,3,9]\n",
    "l.sort()\n",
    "i=0\n",
    "r=[]\n",
    "r.append(l.count(l[0]))\n",
    "i=0\n",
    "while(i<len(l)-1):\n",
    "    if l[i+1]!=l[i]:\n",
    "        r.append(l.count(l[i+1]))\n",
    "    i+=1\n",
    "r.sort()\n",
    "\n",
    "print(r)\n"
   ]
  },
  {
   "cell_type": "code",
   "execution_count": 7,
   "metadata": {},
   "outputs": [
    {
     "name": "stdout",
     "output_type": "stream",
     "text": [
      "4\n"
     ]
    }
   ],
   "source": [
    "print(main())"
   ]
  },
  {
   "cell_type": "code",
   "execution_count": 9,
   "metadata": {},
   "outputs": [
    {
     "ename": "NameError",
     "evalue": "name 'r' is not defined",
     "output_type": "error",
     "traceback": [
      "\u001b[1;31m---------------------------------------------------------------------------\u001b[0m",
      "\u001b[1;31mNameError\u001b[0m                                 Traceback (most recent call last)",
      "\u001b[1;32mc:\\Users\\lenovo\\OneDrive\\Desktop\\Python\\3.ipynb Cell 5\u001b[0m in \u001b[0;36m<cell line: 2>\u001b[1;34m()\u001b[0m\n\u001b[0;32m      <a href='vscode-notebook-cell:/c%3A/Users/lenovo/OneDrive/Desktop/Python/3.ipynb#W4sZmlsZQ%3D%3D?line=0'>1</a>\u001b[0m count\u001b[39m=\u001b[39m\u001b[39m0\u001b[39m\n\u001b[0;32m      <a href='vscode-notebook-cell:/c%3A/Users/lenovo/OneDrive/Desktop/Python/3.ipynb#W4sZmlsZQ%3D%3D?line=1'>2</a>\u001b[0m \u001b[39mwhile\u001b[39;00m(count\u001b[39m<\u001b[39m(n\u001b[39m-\u001b[39mx)):\n\u001b[1;32m----> <a href='vscode-notebook-cell:/c%3A/Users/lenovo/OneDrive/Desktop/Python/3.ipynb#W4sZmlsZQ%3D%3D?line=2'>3</a>\u001b[0m     \u001b[39mfor\u001b[39;00m x \u001b[39min\u001b[39;00m r:\n\u001b[0;32m      <a href='vscode-notebook-cell:/c%3A/Users/lenovo/OneDrive/Desktop/Python/3.ipynb#W4sZmlsZQ%3D%3D?line=3'>4</a>\u001b[0m         \u001b[39mif\u001b[39;00m x\u001b[39m>\u001b[39m\u001b[39m0\u001b[39m:\n\u001b[0;32m      <a href='vscode-notebook-cell:/c%3A/Users/lenovo/OneDrive/Desktop/Python/3.ipynb#W4sZmlsZQ%3D%3D?line=4'>5</a>\u001b[0m             x\u001b[39m-\u001b[39m\u001b[39m=\u001b[39m\u001b[39m1\u001b[39m\n",
      "\u001b[1;31mNameError\u001b[0m: name 'r' is not defined"
     ]
    }
   ],
   "source": [
    "count=0\n",
    "while(count<(n-x)):\n",
    "    for x in r:\n",
    "        if x>0:\n",
    "            x-=1\n",
    "            count+=1\n",
    "        if count>n-x:\n",
    "            break\n",
    "print(count)"
   ]
  },
  {
   "cell_type": "code",
   "execution_count": null,
   "metadata": {},
   "outputs": [],
   "source": []
  },
  {
   "cell_type": "code",
   "execution_count": 8,
   "metadata": {},
   "outputs": [
    {
     "name": "stdout",
     "output_type": "stream",
     "text": [
      "5 4\n"
     ]
    }
   ],
   "source": [
    "n,x=list(map(int,input().split()))\n",
    "print(n,x)"
   ]
  },
  {
   "cell_type": "code",
   "execution_count": 17,
   "metadata": {},
   "outputs": [],
   "source": [
    "#BinarySearch\n",
    "a=[1,2,3,4,5,6,8,9]\n",
    "def binarySearch(array,key):\n",
    "    low=0\n",
    "    high=len(array)\n",
    "    while(low<high):\n",
    "        mid=int(low + (high-low)/2)\n",
    "        if array[mid]==key:\n",
    "            return mid\n",
    "        elif array[mid]>key:\n",
    "            high=mid-1\n",
    "        else:\n",
    "            low=mid+1\n",
    "    return \"Not Found\""
   ]
  },
  {
   "cell_type": "code",
   "execution_count": 18,
   "metadata": {},
   "outputs": [
    {
     "name": "stdout",
     "output_type": "stream",
     "text": [
      "2\n"
     ]
    }
   ],
   "source": [
    "print(binarySearch(a,3))"
   ]
  },
  {
   "cell_type": "code",
   "execution_count": 3,
   "metadata": {},
   "outputs": [
    {
     "ename": "ValueError",
     "evalue": "invalid literal for int() with base 10: '2 3 4 5 6 7'",
     "output_type": "error",
     "traceback": [
      "\u001b[1;31m---------------------------------------------------------------------------\u001b[0m",
      "\u001b[1;31mValueError\u001b[0m                                Traceback (most recent call last)",
      "\u001b[1;32mc:\\Users\\lenovo\\OneDrive\\Desktop\\Python\\3.ipynb Cell 10\u001b[0m in \u001b[0;36m<cell line: 19>\u001b[1;34m()\u001b[0m\n\u001b[0;32m     <a href='vscode-notebook-cell:/c%3A/Users/lenovo/OneDrive/Desktop/Python/3.ipynb#X12sZmlsZQ%3D%3D?line=15'>16</a>\u001b[0m     \u001b[39mreturn\u001b[39;00m max_product\n\u001b[0;32m     <a href='vscode-notebook-cell:/c%3A/Users/lenovo/OneDrive/Desktop/Python/3.ipynb#X12sZmlsZQ%3D%3D?line=18'>19</a>\u001b[0m \u001b[39mif\u001b[39;00m \u001b[39m__name__\u001b[39m \u001b[39m==\u001b[39m \u001b[39m'\u001b[39m\u001b[39m__main__\u001b[39m\u001b[39m'\u001b[39m:\n\u001b[1;32m---> <a href='vscode-notebook-cell:/c%3A/Users/lenovo/OneDrive/Desktop/Python/3.ipynb#X12sZmlsZQ%3D%3D?line=19'>20</a>\u001b[0m     _ \u001b[39m=\u001b[39m \u001b[39mint\u001b[39;49m(\u001b[39minput\u001b[39;49m())\n\u001b[0;32m     <a href='vscode-notebook-cell:/c%3A/Users/lenovo/OneDrive/Desktop/Python/3.ipynb#X12sZmlsZQ%3D%3D?line=20'>21</a>\u001b[0m     input_numbers \u001b[39m=\u001b[39m \u001b[39mlist\u001b[39m(\u001b[39mmap\u001b[39m(\u001b[39mint\u001b[39m, \u001b[39minput\u001b[39m()\u001b[39m.\u001b[39msplit()))\n\u001b[0;32m     <a href='vscode-notebook-cell:/c%3A/Users/lenovo/OneDrive/Desktop/Python/3.ipynb#X12sZmlsZQ%3D%3D?line=21'>22</a>\u001b[0m     \u001b[39mprint\u001b[39m(max_pairwise_product(input_numbers))\n",
      "\u001b[1;31mValueError\u001b[0m: invalid literal for int() with base 10: '2 3 4 5 6 7'"
     ]
    }
   ],
   "source": [
    "#maximumPairwiseProduct\n",
    "def max_pairwise_product(numbers):\n",
    "    n = len(numbers)\n",
    "    def maxIndex(s):\n",
    "        maxx=0\n",
    "        for i in range(len(s)):\n",
    "            if s[i]>s[maxx]:\n",
    "                maxx=i\n",
    "        return maxx\n",
    "    maxx1=numbers[maxIndex(numbers)]\n",
    "    numbers.pop(maxIndex(numbers))\n",
    "    maxx2=numbers[maxIndex(numbers)]\n",
    "    max_product= maxx1*maxx2\n",
    "\n",
    "\n",
    "    return max_product\n",
    "\n",
    "if __name__ == '__main__':\n",
    "    _ = int(input())\n",
    "    input_numbers = list(map(int, input().split()))\n",
    "    print(max_pairwise_product(input_numbers))\n",
    "\n"
   ]
  },
  {
   "cell_type": "code",
   "execution_count": 6,
   "metadata": {},
   "outputs": [
    {
     "name": "stdout",
     "output_type": "stream",
     "text": [
      "6\n"
     ]
    }
   ],
   "source": [
    "def max_pairwise_product(numbers):\n",
    "    n = len(numbers)\n",
    "    def maxIndex(s):\n",
    "        maxx=0\n",
    "        for i in range(len(s)):\n",
    "            if s[i]>s[maxx]:\n",
    "                maxx=i\n",
    "        return maxx\n",
    "    maxx1=numbers[maxIndex(numbers)]\n",
    "    numbers.pop(maxIndex(numbers))\n",
    "    maxx2=numbers[maxIndex(numbers)]\n",
    "    max_product= maxx1*maxx2\n",
    "\n",
    "\n",
    "    return max_product\n",
    "input_numbers = list(map(int, input().split()))\n",
    "print(max_pairwise_product(input_numbers))\n",
    "\n"
   ]
  },
  {
   "cell_type": "code",
   "execution_count": null,
   "metadata": {},
   "outputs": [],
   "source": [
    "def fibonacci_number(n):\n",
    "    a=[1,1]\n",
    "    i=2\n",
    "    while(i<n):\n",
    "        a.append(a[i-2]+a[i-1])\n",
    "        i+=1\n",
    "    return a[i-1]\n",
    "\n",
    "\n",
    "if __name__ == '__main__':\n",
    "    input_n = int(input())\n",
    "    print(fibonacci_number(input_n))\n"
   ]
  },
  {
   "cell_type": "code",
   "execution_count": 2,
   "metadata": {},
   "outputs": [
    {
     "data": {
      "text/plain": [
       "2"
      ]
     },
     "execution_count": 2,
     "metadata": {},
     "output_type": "execute_result"
    }
   ],
   "source": [
    "n=3\n",
    "a=[1,1]\n",
    "i=2\n",
    "while(i<n):\n",
    "    a.append(a[i-2]+a[i-1])\n",
    "    i+=1\n",
    "a[i-1]"
   ]
  },
  {
   "cell_type": "code",
   "execution_count": 10,
   "metadata": {},
   "outputs": [
    {
     "data": {
      "text/plain": [
       "10"
      ]
     },
     "execution_count": 10,
     "metadata": {},
     "output_type": "execute_result"
    }
   ],
   "source": [
    "#Euclid's gcd algorithm\n",
    "def gcdEuclid(a,b):\n",
    "    dd=a\n",
    "    div=b\n",
    "    \n",
    "    while(div!=0):\n",
    "        remainder=dd%div\n",
    "        dd=div\n",
    "        div=remainder\n",
    "    return dd\n",
    "gcdEuclid(50,10)"
   ]
  },
  {
   "cell_type": "code",
   "execution_count": null,
   "metadata": {},
   "outputs": [],
   "source": [
    "def lcm(a, b):\n",
    "    dd=a\n",
    "    div=b\n",
    "    \n",
    "    while(div!=0):\n",
    "        remainder=dd%div\n",
    "        dd=div\n",
    "        div=remainder\n",
    "    \n",
    "    return a*b/dd\n",
    "    \n",
    "\n",
    "    assert False\n",
    "    \n",
    "\n",
    "if __name__ == '__main__':\n",
    "    a, b = map(int, input().split())\n",
    "    print(lcm(a, b))\n",
    "\n"
   ]
  }
 ],
 "metadata": {
  "kernelspec": {
   "display_name": "Python 3.10.8 64-bit (microsoft store)",
   "language": "python",
   "name": "python3"
  },
  "language_info": {
   "codemirror_mode": {
    "name": "ipython",
    "version": 3
   },
   "file_extension": ".py",
   "mimetype": "text/x-python",
   "name": "python",
   "nbconvert_exporter": "python",
   "pygments_lexer": "ipython3",
   "version": "3.10.8"
  },
  "orig_nbformat": 4,
  "vscode": {
   "interpreter": {
    "hash": "5c41cc7a6bf458ae2af5583a7906ef5f402c759b4882f3cbfc8ede19b81b2d2f"
   }
  }
 },
 "nbformat": 4,
 "nbformat_minor": 2
}
